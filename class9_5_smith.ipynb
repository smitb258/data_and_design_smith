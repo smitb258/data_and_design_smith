{
 "cells": [
  {
   "cell_type": "markdown",
   "metadata": {},
   "source": [
    "# this dataset is a database of American state-level union membership and coverage from 1983 to 2015 and was compiled Barry Hirsch(Economics, Georgia State University) and David Macpherson (Economics, Trinity University). I study privatization theory and wanted to use a data set relating to the perceived health of labor unions in the United States."
   ]
  },
  {
   "cell_type": "code",
   "execution_count": null,
   "metadata": {},
   "outputs": [],
   "source": [
    "import pandas as pd"
   ]
  },
  {
   "cell_type": "code",
   "execution_count": 2,
   "metadata": {},
   "outputs": [],
   "source": [
    "unions = pd.read_csv('data/unions_states.csv')"
   ]
  },
  {
   "cell_type": "code",
   "execution_count": 4,
   "metadata": {},
   "outputs": [
    {
     "name": "stdout",
     "output_type": "stream",
     "text": [
      "<class 'pandas.core.frame.DataFrame'>\n",
      "RangeIndex: 6732 entries, 0 to 6731\n",
      "Data columns (total 10 columns):\n",
      "Code          6732 non-null int64\n",
      "State         6732 non-null object\n",
      "Sector        6732 non-null object\n",
      "Obs           6732 non-null int64\n",
      "Employment    6732 non-null int64\n",
      "Members       6732 non-null int64\n",
      "Covered       6732 non-null int64\n",
      "PctMem        6732 non-null float64\n",
      "PctCov        6732 non-null float64\n",
      "Year          6732 non-null int64\n",
      "dtypes: float64(2), int64(6), object(2)\n",
      "memory usage: 526.0+ KB\n"
     ]
    }
   ],
   "source": [
    "unions.info()"
   ]
  },
  {
   "cell_type": "code",
   "execution_count": 5,
   "metadata": {},
   "outputs": [
    {
     "data": {
      "text/plain": [
       "<matplotlib.axes._subplots.AxesSubplot at 0x111a77b70>"
      ]
     },
     "execution_count": 5,
     "metadata": {},
     "output_type": "execute_result"
    },
    {
     "data": {
      "image/png": "[encoded data removed]",
      "text/plain": [
       "<Figure size 432x288 with 1 Axes>"
      ]
     },
     "metadata": {},
     "output_type": "display_data"
    }
   ],
   "source": [
    "%matplotlib inline\n",
    "import matplotlib.pyplot as plt\n",
    "\n",
    "unions['PctCov'].hist()"
   ]
  },
  {
   "cell_type": "code",
   "execution_count": 6,
   "metadata": {},
   "outputs": [
    {
     "data": {
      "text/html": [
       "<div>\n",
       "<style scoped>\n",
       "    .dataframe tbody tr th:only-of-type {\n",
       "        vertical-align: middle;\n",
       "    }\n",
       "\n",
       "    .dataframe tbody tr th {\n",
       "        vertical-align: top;\n",
       "    }\n",
       "\n",
       "    .dataframe thead th {\n",
       "        text-align: right;\n",
       "    }\n",
       "</style>\n",
       "<table border=\"1\" class=\"dataframe\">\n",
       "  <thead>\n",
       "    <tr style=\"text-align: right;\">\n",
       "      <th></th>\n",
       "      <th>PctMem</th>\n",
       "      <th>PctCov</th>\n",
       "    </tr>\n",
       "  </thead>\n",
       "  <tbody>\n",
       "    <tr>\n",
       "      <th>count</th>\n",
       "      <td>6732.000000</td>\n",
       "      <td>6732.000000</td>\n",
       "    </tr>\n",
       "    <tr>\n",
       "      <th>mean</th>\n",
       "      <td>18.490449</td>\n",
       "      <td>20.652733</td>\n",
       "    </tr>\n",
       "    <tr>\n",
       "      <th>std</th>\n",
       "      <td>14.657639</td>\n",
       "      <td>15.872268</td>\n",
       "    </tr>\n",
       "    <tr>\n",
       "      <th>min</th>\n",
       "      <td>0.000000</td>\n",
       "      <td>0.000000</td>\n",
       "    </tr>\n",
       "    <tr>\n",
       "      <th>25%</th>\n",
       "      <td>7.700000</td>\n",
       "      <td>8.700000</td>\n",
       "    </tr>\n",
       "    <tr>\n",
       "      <th>50%</th>\n",
       "      <td>14.400000</td>\n",
       "      <td>16.200000</td>\n",
       "    </tr>\n",
       "    <tr>\n",
       "      <th>75%</th>\n",
       "      <td>24.300000</td>\n",
       "      <td>27.600000</td>\n",
       "    </tr>\n",
       "    <tr>\n",
       "      <th>max</th>\n",
       "      <td>73.100000</td>\n",
       "      <td>76.800000</td>\n",
       "    </tr>\n",
       "  </tbody>\n",
       "</table>\n",
       "</div>"
      ],
      "text/plain": [
       "            PctMem       PctCov\n",
       "count  6732.000000  6732.000000\n",
       "mean     18.490449    20.652733\n",
       "std      14.657639    15.872268\n",
       "min       0.000000     0.000000\n",
       "25%       7.700000     8.700000\n",
       "50%      14.400000    16.200000\n",
       "75%      24.300000    27.600000\n",
       "max      73.100000    76.800000"
      ]
     },
     "execution_count": 6,
     "metadata": {},
     "output_type": "execute_result"
    }
   ],
   "source": [
    "unions[['PctMem', 'PctCov']].describe()"
   ]
  },
  {
   "cell_type": "code",
   "execution_count": 27,
   "metadata": {},
   "outputs": [],
   "source": [
    "uni = unions.groupby('PctMem')['PctCov'].count()"
   ]
  },
  {
   "cell_type": "code",
   "execution_count": 28,
   "metadata": {},
   "outputs": [
    {
     "data": {
      "text/plain": [
       "PctMem\n",
       "0.0     15\n",
       "0.4      2\n",
       "0.5      2\n",
       "0.6      2\n",
       "0.7      1\n",
       "0.8      4\n",
       "0.9      7\n",
       "1.0      4\n",
       "1.1      6\n",
       "1.2      5\n",
       "1.3      5\n",
       "1.4      6\n",
       "1.5      5\n",
       "1.6      9\n",
       "1.7      5\n",
       "1.8      9\n",
       "1.9      9\n",
       "2.0     10\n",
       "2.1     14\n",
       "2.2     10\n",
       "2.3     21\n",
       "2.4     12\n",
       "2.5     28\n",
       "2.6     21\n",
       "2.7     31\n",
       "2.8     27\n",
       "2.9     27\n",
       "3.0     20\n",
       "3.1     37\n",
       "3.2     22\n",
       "        ..\n",
       "67.9     1\n",
       "68.0     1\n",
       "68.1     1\n",
       "68.2     1\n",
       "68.5     1\n",
       "68.6     2\n",
       "68.7     1\n",
       "68.8     1\n",
       "68.9     2\n",
       "69.0     1\n",
       "69.2     1\n",
       "69.3     1\n",
       "69.4     2\n",
       "69.8     1\n",
       "69.9     2\n",
       "70.0     2\n",
       "70.1     1\n",
       "70.2     2\n",
       "70.5     2\n",
       "70.6     1\n",
       "70.8     1\n",
       "71.0     1\n",
       "71.1     2\n",
       "71.9     1\n",
       "72.2     1\n",
       "72.3     1\n",
       "72.4     1\n",
       "72.6     1\n",
       "73.0     1\n",
       "73.1     1\n",
       "Name: PctCov, Length: 672, dtype: int64"
      ]
     },
     "execution_count": 28,
     "metadata": {},
     "output_type": "execute_result"
    }
   ],
   "source": [
    "uni "
   ]
  },
  {
   "cell_type": "code",
   "execution_count": 29,
   "metadata": {},
   "outputs": [
    {
     "data": {
      "text/plain": [
       "15"
      ]
     },
     "execution_count": 29,
     "metadata": {},
     "output_type": "execute_result"
    }
   ],
   "source": [
    "uni[0]"
   ]
  },
  {
   "cell_type": "code",
   "execution_count": 30,
   "metadata": {},
   "outputs": [
    {
     "data": {
      "text/plain": [
       "pandas.core.series.Series"
      ]
     },
     "execution_count": 30,
     "metadata": {},
     "output_type": "execute_result"
    }
   ],
   "source": [
    "type(uni)"
   ]
  },
  {
   "cell_type": "code",
   "execution_count": 31,
   "metadata": {},
   "outputs": [
    {
     "data": {
      "text/plain": [
       "Float64Index([ 0.0,  0.4,  0.5,  0.6,  0.7,  0.8,  0.9,  1.0,  1.1,  1.2,\n",
       "              ...\n",
       "              70.8, 71.0, 71.1, 71.9, 72.2, 72.3, 72.4, 72.6, 73.0, 73.1],\n",
       "             dtype='float64', name='PctMem', length=672)"
      ]
     },
     "execution_count": 31,
     "metadata": {},
     "output_type": "execute_result"
    }
   ],
   "source": [
    "uni.index"
   ]
  },
  {
   "cell_type": "code",
   "execution_count": 32,
   "metadata": {},
   "outputs": [
    {
     "data": {
      "text/plain": [
       "PctMem\n",
       "0.0     15\n",
       "0.4      2\n",
       "0.5      2\n",
       "0.6      2\n",
       "0.7      1\n",
       "0.8      4\n",
       "0.9      7\n",
       "1.0      4\n",
       "1.1      6\n",
       "1.2      5\n",
       "1.3      5\n",
       "1.4      6\n",
       "1.5      5\n",
       "1.6      9\n",
       "1.7      5\n",
       "1.8      9\n",
       "1.9      9\n",
       "2.0     10\n",
       "2.1     14\n",
       "2.2     10\n",
       "2.3     21\n",
       "2.4     12\n",
       "2.5     28\n",
       "2.6     21\n",
       "2.7     31\n",
       "2.8     27\n",
       "2.9     27\n",
       "3.0     20\n",
       "3.1     37\n",
       "3.2     22\n",
       "        ..\n",
       "67.9     1\n",
       "68.0     1\n",
       "68.1     1\n",
       "68.2     1\n",
       "68.5     1\n",
       "68.6     2\n",
       "68.7     1\n",
       "68.8     1\n",
       "68.9     2\n",
       "69.0     1\n",
       "69.2     1\n",
       "69.3     1\n",
       "69.4     2\n",
       "69.8     1\n",
       "69.9     2\n",
       "70.0     2\n",
       "70.1     1\n",
       "70.2     2\n",
       "70.5     2\n",
       "70.6     1\n",
       "70.8     1\n",
       "71.0     1\n",
       "71.1     2\n",
       "71.9     1\n",
       "72.2     1\n",
       "72.3     1\n",
       "72.4     1\n",
       "72.6     1\n",
       "73.0     1\n",
       "73.1     1\n",
       "Name: PctCov, Length: 672, dtype: int64"
      ]
     },
     "execution_count": 32,
     "metadata": {},
     "output_type": "execute_result"
    }
   ],
   "source": [
    "uni[:]"
   ]
  },
  {
   "cell_type": "code",
   "execution_count": 35,
   "metadata": {},
   "outputs": [
    {
     "data": {
      "text/plain": [
       "<BarContainer object of 672 artists>"
      ]
     },
     "execution_count": 35,
     "metadata": {},
     "output_type": "execute_result"
    },
    {
     "data": {
      "image/png": "[encoded data removed]",
      "text/plain": [
       "<Figure size 432x288 with 1 Axes>"
      ]
     },
     "metadata": {},
     "output_type": "display_data"
    }
   ],
   "source": [
    "plt.bar(uni.index, uni)"
   ]
  },
  {
   "cell_type": "code",
   "execution_count": 36,
   "metadata": {},
   "outputs": [],
   "source": [
    "uni = unions.groupby('Year')['PctMem'].count()"
   ]
  },
  {
   "cell_type": "code",
   "execution_count": 23,
   "metadata": {},
   "outputs": [
    {
     "data": {
      "text/plain": [
       "Year\n",
       "1983    204\n",
       "1984    204\n",
       "1985    204\n",
       "1986    204\n",
       "1987    204\n",
       "1988    204\n",
       "1989    204\n",
       "1990    204\n",
       "1991    204\n",
       "1992    204\n",
       "1993    204\n",
       "1994    204\n",
       "1995    204\n",
       "1996    204\n",
       "1997    204\n",
       "1998    204\n",
       "1999    204\n",
       "2000    204\n",
       "2001    204\n",
       "2002    204\n",
       "2003    204\n",
       "2004    204\n",
       "2005    204\n",
       "2006    204\n",
       "2007    204\n",
       "2008    204\n",
       "2009    204\n",
       "2010    204\n",
       "2011    204\n",
       "2012    204\n",
       "2013    204\n",
       "2014    204\n",
       "2015    204\n",
       "Name: PctMem, dtype: int64"
      ]
     },
     "execution_count": 23,
     "metadata": {},
     "output_type": "execute_result"
    }
   ],
   "source": [
    "uni"
   ]
  },
  {
   "cell_type": "code",
   "execution_count": null,
   "metadata": {},
   "outputs": [],
   "source": []
  },
  {
   "cell_type": "code",
   "execution_count": null,
   "metadata": {},
   "outputs": [],
   "source": []
  }
 ],
 "metadata": {
  "kernelspec": {
   "display_name": "Python 3",
   "language": "python",
   "name": "python3"
  },
  "language_info": {
   "codemirror_mode": {
    "name": "ipython",
    "version": 3
   },
   "file_extension": ".py",
   "mimetype": "text/x-python",
   "name": "python",
   "nbconvert_exporter": "python",
   "pygments_lexer": "ipython3",
   "version": "3.6.5"
  }
 },
 "nbformat": 4,
 "nbformat_minor": 2
}
